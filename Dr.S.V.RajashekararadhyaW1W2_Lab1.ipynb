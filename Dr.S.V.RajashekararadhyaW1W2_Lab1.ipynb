{
 "cells": [
  {
   "cell_type": "code",
   "execution_count": null,
   "id": "5e08196a",
   "metadata": {},
   "outputs": [],
   "source": [
    "## An E-commerce website manages its data in the form of various tables."
   ]
  },
  {
   "cell_type": "code",
   "execution_count": null,
   "id": "64e8508b",
   "metadata": {},
   "outputs": [],
   "source": [
    "pip install mysql-connector-python"
   ]
  },
  {
   "cell_type": "code",
   "execution_count": null,
   "id": "ff7d961a",
   "metadata": {},
   "outputs": [],
   "source": [
    "import mysql.connector\n",
    "import pandas as pd"
   ]
  },
  {
   "cell_type": "code",
   "execution_count": null,
   "id": "bde94de3",
   "metadata": {},
   "outputs": [],
   "source": [
    "\n",
    "connection = mysql.connector.connect(host =\"localhost\",\n",
    "                                  user =\"root\",\n",
    "                                  passwd =\"Mysq@root1\",\n",
    "                                  database = \"e-commerce2\")\n",
    "cursorObject = connection.cursor()\n",
    "#cursorObject.execute(\"CREATE DATABASE e-commerce2\")\n",
    "#connection.close()"
   ]
  },
  {
   "cell_type": "code",
   "execution_count": null,
   "id": "12dd5eef",
   "metadata": {},
   "outputs": [],
   "source": [
    "##Q1. Create tables "
   ]
  },
  {
   "cell_type": "code",
   "execution_count": null,
   "id": "02ccfab6",
   "metadata": {},
   "outputs": [],
   "source": [
    "table_creation_query =\"\"\"\n",
    "create table if not exists `supplier`(\n",
    "`SUPP_ID` INT primary key,\n",
    "`SUPP_NAME` varchar(50) ,\n",
    "`SUPP_CITY` varchar(50),\n",
    "`SUPP_PHONE` varchar(20)\n",
    ");\n",
    "\n",
    "CREATE TABLE IF NOT EXISTS `customer` (\n",
    "  `CUS_ID` INT NOT NULL,\n",
    "  `CUS_NAME` VARCHAR(20) NULL DEFAULT NULL,\n",
    "  `CUS_PHONE` VARCHAR(20),\n",
    "  `CUS_CITY` varchar(30) ,\n",
    "  `CUS_GENDER` CHAR,\n",
    "  PRIMARY KEY (`CUS_ID`));\n",
    "  \n",
    "  \n",
    "\n",
    "CREATE TABLE IF NOT EXISTS `category` (\n",
    "  `CAT_ID` INT NOT NULL,\n",
    "  `CAT_NAME` VARCHAR(20) NULL DEFAULT NULL,\n",
    " \n",
    "  PRIMARY KEY (`CAT_ID`)\n",
    "  );\n",
    "\n",
    "\n",
    "  CREATE TABLE IF NOT EXISTS `product` (\n",
    "  `PRO_ID` INT NOT NULL,\n",
    "  `PRO_NAME` VARCHAR(20) NULL DEFAULT NULL,\n",
    "  `PRO_DESC` VARCHAR(60) NULL DEFAULT NULL,\n",
    "  `CAT_ID` INT NOT NULL,\n",
    "  PRIMARY KEY (`PRO_ID`),\n",
    "  FOREIGN KEY (`CAT_ID`) REFERENCES category (`CAT_ID`)\n",
    "  \n",
    "  );\n",
    "  \n",
    "  \n",
    " CREATE TABLE IF NOT EXISTS `product_details` (\n",
    "  `PROD_ID` INT NOT NULL,\n",
    "  `PRO_ID` INT NOT NULL,\n",
    "  `SUPP_ID` INT NOT NULL,\n",
    "  `PROD_PRICE` INT NOT NULL,\n",
    "  PRIMARY KEY (`PROD_ID`),\n",
    "  FOREIGN KEY (`PRO_ID`) REFERENCES product (`PRO_ID`),\n",
    "  FOREIGN KEY (`SUPP_ID`) REFERENCES supplier (`SUPP_ID`)\n",
    "  \n",
    "  );\n",
    "  \n",
    "  CREATE TABLE IF NOT EXISTS `orders` (\n",
    "  `ORD_ID` INT NOT NULL,\n",
    "  `ORD_AMOUNT` INT NOT NULL,\n",
    "  `ORD_DATE` DATE,\n",
    "  `CUS_ID` INT NOT NULL,\n",
    "  `PROD_ID` INT NOT NULL,\n",
    "  PRIMARY KEY (`ORD_ID`),\n",
    "  FOREIGN KEY (`CUS_ID`) REFERENCES customer (`CUS_ID`),\n",
    "  FOREIGN KEY (`PROD_ID`) REFERENCES product_details (`PROD_ID`)\n",
    "  );\n",
    "  \n",
    "  \n",
    "CREATE TABLE IF NOT EXISTS `rating` (\n",
    "  `RAT_ID` INT NOT NULL,\n",
    "  `CUS_ID` INT NOT NULL,\n",
    "  `SUPP_ID` INT NOT NULL,\n",
    "  `RAT_RATSTARS` INT NOT NULL,\n",
    "  PRIMARY KEY (`RAT_ID`),\n",
    "  FOREIGN KEY (`SUPP_ID`) REFERENCES supplier (`SUPP_ID`),\n",
    "  FOREIGN KEY (`CUS_ID`) REFERENCES customer (`CUS_ID`)\n",
    "  );\"\"\"\n",
    "\n",
    "cursorObject.execute(table_creation_query, multi=True)"
   ]
  },
  {
   "cell_type": "code",
   "execution_count": null,
   "id": "bbf77c8d",
   "metadata": {},
   "outputs": [],
   "source": [
    "connection.close()\n",
    "connection = mysql.connector.connect(host =\"localhost\",\n",
    "                                  user =\"root\",\n",
    "                                  passwd =\"Mysq@root1\",\n",
    "                                  database = \"e-commerce2\")\n",
    "cursorObject = connection.cursor()"
   ]
  },
  {
   "cell_type": "code",
   "execution_count": null,
   "id": "7c350e3c",
   "metadata": {},
   "outputs": [],
   "source": [
    "##Q2. Insert"
   ]
  },
  {
   "cell_type": "code",
   "execution_count": null,
   "id": "6f7769bd",
   "metadata": {},
   "outputs": [],
   "source": [
    "# insert into \"supplier\" table\n",
    "insert_query = \"INSERT INTO supplier (SUPP_ID,SUPP_NAME,SUPP_CITY,SUPP_PHONE) VALUES (%s, %s, %s, %s)\"\n",
    "\n",
    "val = [(1,\"Rajesh Retails\",\"Delhi\",'1234567890'),\n",
    "      (2,\"Appario Ltd.\",\"Mumbai\",'2589631470'),\n",
    "      (3,\"Knome products\",\"Banglore\",'9785462315'),\n",
    "      (4,\"Bansal Retails\",\"Kochi\",'8975463285'),\n",
    "      (5,\"Mittal Ltd.\",\"Lucknow\",'7898456532')]\n",
    "\n",
    "cursorObject.executemany(insert_query, val)\n",
    "\n",
    "connection.commit()"
   ]
  },
  {
   "cell_type": "code",
   "execution_count": null,
   "id": "11574c5f",
   "metadata": {},
   "outputs": [],
   "source": [
    "# insert into \"customer\" table\n",
    "insert_query = \"INSERT INTO customer (CUS_ID,CUS_NAME,CUS_PHONE,CUS_CITY,CUS_GENDER) VALUES (%s,%s,%s,%s,%s)\"\n",
    "\n",
    "val = [(1,\"AAKASH\",'9999999999',\"DELHI\",'M'),\n",
    "       (2,\"AMAN\",' 9785463215',\"NOIDA\",'M'),\n",
    "       (3,\"NEHA\",'9999999998',\"MUMBAI\",'F'),\n",
    "       (4,\"MEGHA\",'9994562399',\" KOLKATA\",'F'),\n",
    "       (5,\"PULKIT\",'7895999999',\"LUCKNOW\",'M')]\n",
    "\n",
    "cursorObject.executemany(insert_query, val)\n",
    "connection.commit()"
   ]
  },
  {
   "cell_type": "code",
   "execution_count": null,
   "id": "2619af73",
   "metadata": {},
   "outputs": [],
   "source": [
    "# insert into \"categoty\" table\n",
    "## Inserting Values into \"category\" table\n",
    "\n",
    "insert_query = \"INSERT INTO category (CAT_ID,CAT_NAME) VALUES (%s,%s)\"\n",
    "val = [(1,\"BOOKS\"),\n",
    "        (2,\"GAMES\"),\n",
    "         (3,\"GROCERIES\"),\n",
    "        (4 ,\"ELECTRONICS\"),\n",
    "        (5 ,\"CLOTHES\")]\n",
    "cursorObject.executemany(insert_query, val)\n",
    "connection.commit()\n"
   ]
  },
  {
   "cell_type": "code",
   "execution_count": null,
   "id": "1baa3cb5",
   "metadata": {},
   "outputs": [],
   "source": [
    "# insert into \"product\" table\n",
    "## Inserting Values into \"product\" table\n",
    "\n",
    "insert_query = \"INSERT INTO product (PRO_ID,PRO_NAME,PRO_DESC,CAT_ID) VALUES (%s,%s,%s,%s)\"\n",
    "val = [(1,\"GTA V\",\" DFJDJFDJFDJFDJFJF\",2),\n",
    "        (2,\"TSHIRT\",\"DFDFJDFJDKFD\",5),\n",
    "         (3,\"ROG LAPTOP\",\"DFNTTNTNTERND\",4),\n",
    "        (4 ,\"OATS\",\"REURENTBTOTH\",3),\n",
    "        (5 ,\" HARRY POTTER \",\"NBEMCTHTJTH \",1)]\n",
    "cursorObject.executemany(insert_query, val)\n",
    "connection.commit()"
   ]
  },
  {
   "cell_type": "code",
   "execution_count": null,
   "id": "a5a7cb65",
   "metadata": {},
   "outputs": [],
   "source": [
    "# insert into \"product_details\" table\n",
    "## Inserting Values into \"product_details\" table\n",
    "\n",
    "insert_query = \"INSERT INTO product_details (PROD_ID,PRO_ID,SUPP_ID,PROD_PRICE) VALUES (%s,%s,%s,%s)\"\n",
    "val = [(1,1,2,1500),\n",
    "        (2,3,5,30000),\n",
    "         (3,5,1,3000),\n",
    "        (4 ,2,3,2500),\n",
    "        (5 ,4,1,1000)]\n",
    "cursorObject.executemany(insert_query, val)\n",
    "connection.commit()"
   ]
  },
  {
   "cell_type": "code",
   "execution_count": null,
   "id": "f54cfbbc",
   "metadata": {},
   "outputs": [],
   "source": [
    "# insert into \"orders\" table\n",
    "## Inserting Values into \"orders\" table\n",
    "\n",
    "insert_query = \"INSERT INTO orders (ORD_ID,ORD_AMOUNT,ORD_DATE,CUS_ID,PROD_ID) VALUES (%s,%s,%s,%s,%s)\"\n",
    "\n",
    "val = [(20,1500,2021-10-12,3,5),\n",
    "        (25,30500,2021-9-16,5,2),\n",
    "         (26,2000,2021-10-5,1,1),\n",
    "        (30 ,3500,2021-8-16,4,3),\n",
    "        (50 ,2000,2021-10-6,2,1)]\n",
    "\n",
    "cursorObject.executemany(insert_query, val)\n",
    "connection.commit()"
   ]
  },
  {
   "cell_type": "code",
   "execution_count": null,
   "id": "a508952d",
   "metadata": {},
   "outputs": [],
   "source": [
    "\n",
    "# insert into \"rating\" table\n",
    "## Inserting Values into \"rating\" table\n",
    "\n",
    "insert_query = \"INSERT INTO rating (RAT_ID, CUS_ID, SUPP_ID, RAT_RATSTARS) VALUES (%s,%s,%s,%s)\"\n",
    "val = [(1,2,2,4),\n",
    "       (2,3,4,3),\n",
    "       (3,5,1,5),\n",
    "       (4,1,3,2),\n",
    "       (5,4,5,4)]\n",
    "\n",
    "cursorObject.executemany(insert_query, val)\n",
    "connection.commit()"
   ]
  },
  {
   "cell_type": "code",
   "execution_count": null,
   "id": "66caca0d",
   "metadata": {},
   "outputs": [],
   "source": [
    "##query3"
   ]
  },
  {
   "cell_type": "code",
   "execution_count": null,
   "id": "465a6685",
   "metadata": {},
   "outputs": [],
   "source": [
    "Query3 = \"\"\"select customer.cus_gender,count(customer.cus_gender) as count\n",
    "            from customer inner join `orders` on customer.cus_id=`orders`.cus_id\n",
    "            where `orders` .ord_amount>=3000 group by customer.cus_gender;\"\"\"\n",
    "            \n",
    "cursorObject.execute(Query3)\n",
    "output = cursorObject.fetchall()\n",
    "      \n",
    "      ## Lets put the output of this query in pandas DataFrame\n",
    "output_df = pd.DataFrame(output, columns=['CUS_GENDER','COUNT'])\n",
    "output_df"
   ]
  },
  {
   "cell_type": "code",
   "execution_count": null,
   "id": "68874de7",
   "metadata": {},
   "outputs": [],
   "source": [
    "##q4"
   ]
  },
  {
   "cell_type": "code",
   "execution_count": null,
   "id": "680bc1da",
   "metadata": {},
   "outputs": [],
   "source": [
    "\n",
    "Query4= \"\"\"select `orders`.*,product.pro_name\n",
    "            from `orders` ,product_details,product\n",
    "            where `orders`.cus_id=2 and `orders`.prod_id=product_details.prod_id and\n",
    "            product_details.pro_id=product.pro_id;\"\"\"\n",
    "            \n",
    "      cursorObject.execute(Query4)\n",
    "      \n",
    "    output = cursorObject.fetchall()\n",
    "      \n",
    "      ## Lets put the output of this query in pandas DataFrame\n",
    "      output_df = pd.DataFrame(output, columns=['PRO_NAME','CUS_ID=2'])\n",
    "    output_df"
   ]
  },
  {
   "cell_type": "code",
   "execution_count": null,
   "id": "8d294a06",
   "metadata": {},
   "outputs": [],
   "source": [
    "#q5"
   ]
  },
  {
   "cell_type": "code",
   "execution_count": null,
   "id": "83c9b5d1",
   "metadata": {},
   "outputs": [],
   "source": [
    "Query5=    \"\"\"select supplier.*\n",
    "                from supplier,product_details\n",
    "                where supplier.supp_id in\n",
    "                (select product_details.supp_id from product_details\n",
    "                group by product_details.supp_id having count(product_details.supp_id)>1)\n",
    "                group by supplier.supp_id;\"\"\"\n",
    "  cursorObject.execute(Query5)\n",
    "output = cursorObject.fetchall()\n",
    "      ## Lets put the output of this query in pandas DataFrame\n",
    "      output_df = pd.DataFrame(output, columns=['product_details']\n",
    "      output_df"
   ]
  },
  {
   "cell_type": "code",
   "execution_count": null,
   "id": "fffc6ab4",
   "metadata": {},
   "outputs": [],
   "source": [
    "##q6"
   ]
  },
  {
   "cell_type": "code",
   "execution_count": null,
   "id": "6ab7c8e5",
   "metadata": {},
   "outputs": [],
   "source": [
    "Query6= \"\"\"select category.*\n",
    "                    from 'orders' inner join product_details on 'orders' .prod_id=product_details.prod_id\n",
    "                    inner join product on product.pro_id=product_details.pro_id\n",
    "                    inner join category on category.cat_id=product.cat_id having min('orders' .ord_amount);\"\"\"\n",
    "\n",
    "     cursorObject.execute(Query6)\n",
    "      output = cursorObject.fetchall()\n",
    "      \n",
    "      ## Lets put the output of this query in pandas DataFrame\n",
    "    output_df = pd.DataFrame(output, columns=['ord_amount']\n",
    "     output_df"
   ]
  },
  {
   "cell_type": "code",
   "execution_count": null,
   "id": "9f72dd75",
   "metadata": {},
   "outputs": [],
   "source": [
    "#q7"
   ]
  },
  {
   "cell_type": "code",
   "execution_count": null,
   "id": "1efce925",
   "metadata": {},
   "outputs": [],
   "source": [
    "Query7=\"\"\"select product.pro_id,product.pro_name\n",
    "            from 'orders' inner join product_details on product_details.prod_id='orders' .prod_id\n",
    "            inner join product on product.pro_id=product_details.pro_id where 'orders'.ord_date>\"2021-10-05\";\"\"\"\n",
    "\n",
    " cursorObject.execute(Query7)\n",
    "      output = cursorObject.fetchall()\n",
    "      \n",
    "      ## Lets put the output of this query in pandas DataFrame\n",
    "    output_df = pd.DataFrame(output, columns=['PRO_ID','PRO_NAME'])\n",
    "     output_df"
   ]
  },
  {
   "cell_type": "code",
   "execution_count": null,
   "id": "d772dce0",
   "metadata": {},
   "outputs": [],
   "source": [
    "#q8"
   ]
  },
  {
   "cell_type": "code",
   "execution_count": null,
   "id": "ff509874",
   "metadata": {},
   "outputs": [],
   "source": [
    " query8=\"\"\"select supplier.supp_id,supplier.supp_name,customer.cus_name,rating.rat_ratstars\n",
    "        from rating inner join supplier on rating.supp_id=supplier.supp_id\n",
    "        inner join customer on rating.cus_id=customer.cus_id order by rating.rat_ratstars desc limit 3;\"\"\"\n",
    "\n",
    " cursorObject.execute(Query8)\n",
    "      output = cursorObject.fetchall()\n",
    "           ## Lets put the output of this query in pandas DataFrame\n",
    "    output_df = pd.DataFrame(output, columns=['SUPP_ID','SUPP_NAME','CUS_NAME'])\n",
    "     output_df "
   ]
  },
  {
   "cell_type": "code",
   "execution_count": null,
   "id": "e8de3ae6",
   "metadata": {},
   "outputs": [],
   "source": [
    "#q9"
   ]
  },
  {
   "cell_type": "code",
   "execution_count": null,
   "id": "a74fbe8b",
   "metadata": {},
   "outputs": [],
   "source": [
    "query9=\"\"\"select customer.cus_name ,customer.cus_gender\n",
    "        from customer where customer.cus_name like 'A%' or customer.cus_name like '%A';\"\"\"\n",
    "\n",
    " cursorObject.execute(Query9)\n",
    "      output = cursorObject.fetchall()\n",
    "           ## Lets put the output of this query in pandas DataFrame\n",
    "    output_df = pd.DataFrame(output, columns=['CUS_NAME','CUS_GENDER'])\n",
    "    output_df "
   ]
  },
  {
   "cell_type": "code",
   "execution_count": null,
   "id": "31e6fc78",
   "metadata": {},
   "outputs": [],
   "source": [
    "#q10"
   ]
  },
  {
   "cell_type": "code",
   "execution_count": null,
   "id": "ec023e1a",
   "metadata": {},
   "outputs": [],
   "source": [
    "query10=\"\"\"select sum('orders' .ord_amount) as Amount\n",
    "            from 'orders' inner join customer on 'orders' .cus_id=customer.cus_id where customer.cus_gender='M';\"\"\"\n",
    "\n",
    "\n",
    " cursorObject.execute(Query10)\n",
    "      output = cursorObject.fetchall()\n",
    "           ## Lets put the output of this query in pandas DataFrame\n",
    "    output_df = pd.DataFrame(output, columns=['orders','ORD_AMT'])\n",
    "    output_df "
   ]
  },
  {
   "cell_type": "code",
   "execution_count": null,
   "id": "423527b0",
   "metadata": {},
   "outputs": [],
   "source": [
    "#q11"
   ]
  },
  {
   "cell_type": "code",
   "execution_count": null,
   "id": "1803c5c5",
   "metadata": {},
   "outputs": [],
   "source": [
    "Query11=\"\"\"select * from customer left outer join 'orders' on customer.cus_id='orders' .cus_id;\"\"\"\n",
    "\n",
    "\n",
    " cursorObject.execute(Query11)\n",
    "      output = cursorObject.fetchall()\n",
    "           ## Lets put the output of this query in pandas DataFrame\n",
    "    output_df = pd.DataFrame(output, columns=['CUS_ID','ORDERS'])\n",
    "    output_df "
   ]
  }
 ],
 "metadata": {
  "kernelspec": {
   "display_name": "Python 3 (ipykernel)",
   "language": "python",
   "name": "python3"
  },
  "language_info": {
   "codemirror_mode": {
    "name": "ipython",
    "version": 3
   },
   "file_extension": ".py",
   "mimetype": "text/x-python",
   "name": "python",
   "nbconvert_exporter": "python",
   "pygments_lexer": "ipython3",
   "version": "3.9.12"
  }
 },
 "nbformat": 4,
 "nbformat_minor": 5
}
